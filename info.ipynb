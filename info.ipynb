I will provide all info in a pdf form.
